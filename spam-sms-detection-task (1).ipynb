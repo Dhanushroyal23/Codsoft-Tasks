{
 "cells": [
  {
   "cell_type": "code",
   "execution_count": 1,
   "id": "8a8e9c0e",
   "metadata": {
    "_cell_guid": "b1076dfc-b9ad-4769-8c92-a6c4dae69d19",
    "_uuid": "8f2839f25d086af736a60e9eeb907d3b93b6e0e5",
    "execution": {
     "iopub.execute_input": "2024-11-14T14:00:48.707557Z",
     "iopub.status.busy": "2024-11-14T14:00:48.706402Z",
     "iopub.status.idle": "2024-11-14T14:00:49.602109Z",
     "shell.execute_reply": "2024-11-14T14:00:49.600811Z"
    },
    "papermill": {
     "duration": 0.907744,
     "end_time": "2024-11-14T14:00:49.604570",
     "exception": false,
     "start_time": "2024-11-14T14:00:48.696826",
     "status": "completed"
    },
    "tags": []
   },
   "outputs": [
    {
     "name": "stdout",
     "output_type": "stream",
     "text": [
      "/kaggle/input/spam-sms-detection/spam.csv\n"
     ]
    }
   ],
   "source": [
    "# This Python 3 environment comes with many helpful analytics libraries installed\n",
    "# It is defined by the kaggle/python Docker image: https://github.com/kaggle/docker-python\n",
    "# For example, here's several helpful packages to load\n",
    "\n",
    "import numpy as np # linear algebra\n",
    "import pandas as pd # data processing, CSV file I/O (e.g. pd.read_csv)\n",
    "\n",
    "# Input data files are available in the read-only \"../input/\" directory\n",
    "# For example, running this (by clicking run or pressing Shift+Enter) will list all files under the input directory\n",
    "\n",
    "import os\n",
    "for dirname, _, filenames in os.walk('/kaggle/input'):\n",
    "    for filename in filenames:\n",
    "        print(os.path.join(dirname, filename))\n",
    "\n",
    "# You can write up to 20GB to the current directory (/kaggle/working/) that gets preserved as output when you create a version using \"Save & Run All\" \n",
    "# You can also write temporary files to /kaggle/temp/, but they won't be saved outside of the current session"
   ]
  },
  {
   "cell_type": "code",
   "execution_count": 2,
   "id": "f2274f36",
   "metadata": {
    "execution": {
     "iopub.execute_input": "2024-11-14T14:00:49.621972Z",
     "iopub.status.busy": "2024-11-14T14:00:49.621116Z",
     "iopub.status.idle": "2024-11-14T14:01:05.624119Z",
     "shell.execute_reply": "2024-11-14T14:01:05.622999Z"
    },
    "papermill": {
     "duration": 16.015138,
     "end_time": "2024-11-14T14:01:05.627214",
     "exception": false,
     "start_time": "2024-11-14T14:00:49.612076",
     "status": "completed"
    },
    "tags": []
   },
   "outputs": [],
   "source": [
    "import pandas as pd\n",
    "import numpy as np\n",
    "import matplotlib.pyplot as plt\n",
    "import seaborn as sns\n",
    "from sklearn.model_selection import train_test_split\n",
    "from sklearn.preprocessing import LabelEncoder\n",
    "from keras.models import Model\n",
    "from keras.layers import LSTM, Activation, Dense, Dropout, Input, Embedding\n",
    "from keras.optimizers import RMSprop\n",
    "from keras.preprocessing import sequence\n",
    "from keras.utils import to_categorical\n",
    "from keras.callbacks import EarlyStopping\n",
    "%matplotlib inline"
   ]
  },
  {
   "cell_type": "code",
   "execution_count": 3,
   "id": "94399ac1",
   "metadata": {
    "execution": {
     "iopub.execute_input": "2024-11-14T14:01:05.644294Z",
     "iopub.status.busy": "2024-11-14T14:01:05.643529Z",
     "iopub.status.idle": "2024-11-14T14:01:05.691788Z",
     "shell.execute_reply": "2024-11-14T14:01:05.690560Z"
    },
    "papermill": {
     "duration": 0.059648,
     "end_time": "2024-11-14T14:01:05.694472",
     "exception": false,
     "start_time": "2024-11-14T14:01:05.634824",
     "status": "completed"
    },
    "tags": []
   },
   "outputs": [
    {
     "data": {
      "text/html": [
       "<div>\n",
       "<style scoped>\n",
       "    .dataframe tbody tr th:only-of-type {\n",
       "        vertical-align: middle;\n",
       "    }\n",
       "\n",
       "    .dataframe tbody tr th {\n",
       "        vertical-align: top;\n",
       "    }\n",
       "\n",
       "    .dataframe thead th {\n",
       "        text-align: right;\n",
       "    }\n",
       "</style>\n",
       "<table border=\"1\" class=\"dataframe\">\n",
       "  <thead>\n",
       "    <tr style=\"text-align: right;\">\n",
       "      <th></th>\n",
       "      <th>v1</th>\n",
       "      <th>v2</th>\n",
       "      <th>Unnamed: 2</th>\n",
       "      <th>Unnamed: 3</th>\n",
       "      <th>Unnamed: 4</th>\n",
       "    </tr>\n",
       "  </thead>\n",
       "  <tbody>\n",
       "    <tr>\n",
       "      <th>0</th>\n",
       "      <td>ham</td>\n",
       "      <td>Go until jurong point, crazy.. Available only ...</td>\n",
       "      <td>NaN</td>\n",
       "      <td>NaN</td>\n",
       "      <td>NaN</td>\n",
       "    </tr>\n",
       "    <tr>\n",
       "      <th>1</th>\n",
       "      <td>ham</td>\n",
       "      <td>Ok lar... Joking wif u oni...</td>\n",
       "      <td>NaN</td>\n",
       "      <td>NaN</td>\n",
       "      <td>NaN</td>\n",
       "    </tr>\n",
       "    <tr>\n",
       "      <th>2</th>\n",
       "      <td>spam</td>\n",
       "      <td>Free entry in 2 a wkly comp to win FA Cup fina...</td>\n",
       "      <td>NaN</td>\n",
       "      <td>NaN</td>\n",
       "      <td>NaN</td>\n",
       "    </tr>\n",
       "    <tr>\n",
       "      <th>3</th>\n",
       "      <td>ham</td>\n",
       "      <td>U dun say so early hor... U c already then say...</td>\n",
       "      <td>NaN</td>\n",
       "      <td>NaN</td>\n",
       "      <td>NaN</td>\n",
       "    </tr>\n",
       "    <tr>\n",
       "      <th>4</th>\n",
       "      <td>ham</td>\n",
       "      <td>Nah I don't think he goes to usf, he lives aro...</td>\n",
       "      <td>NaN</td>\n",
       "      <td>NaN</td>\n",
       "      <td>NaN</td>\n",
       "    </tr>\n",
       "  </tbody>\n",
       "</table>\n",
       "</div>"
      ],
      "text/plain": [
       "     v1                                                 v2 Unnamed: 2  \\\n",
       "0   ham  Go until jurong point, crazy.. Available only ...        NaN   \n",
       "1   ham                      Ok lar... Joking wif u oni...        NaN   \n",
       "2  spam  Free entry in 2 a wkly comp to win FA Cup fina...        NaN   \n",
       "3   ham  U dun say so early hor... U c already then say...        NaN   \n",
       "4   ham  Nah I don't think he goes to usf, he lives aro...        NaN   \n",
       "\n",
       "  Unnamed: 3 Unnamed: 4  \n",
       "0        NaN        NaN  \n",
       "1        NaN        NaN  \n",
       "2        NaN        NaN  \n",
       "3        NaN        NaN  \n",
       "4        NaN        NaN  "
      ]
     },
     "execution_count": 3,
     "metadata": {},
     "output_type": "execute_result"
    }
   ],
   "source": [
    "df = pd.read_csv('/kaggle/input/spam-sms-detection/spam.csv',delimiter=',',encoding='latin-1')\n",
    "df.head()"
   ]
  },
  {
   "cell_type": "code",
   "execution_count": 4,
   "id": "28aecf0b",
   "metadata": {
    "execution": {
     "iopub.execute_input": "2024-11-14T14:01:05.711544Z",
     "iopub.status.busy": "2024-11-14T14:01:05.711077Z",
     "iopub.status.idle": "2024-11-14T14:01:05.743085Z",
     "shell.execute_reply": "2024-11-14T14:01:05.741915Z"
    },
    "papermill": {
     "duration": 0.043985,
     "end_time": "2024-11-14T14:01:05.746075",
     "exception": false,
     "start_time": "2024-11-14T14:01:05.702090",
     "status": "completed"
    },
    "tags": []
   },
   "outputs": [
    {
     "name": "stdout",
     "output_type": "stream",
     "text": [
      "<class 'pandas.core.frame.DataFrame'>\n",
      "RangeIndex: 5572 entries, 0 to 5571\n",
      "Data columns (total 2 columns):\n",
      " #   Column  Non-Null Count  Dtype \n",
      "---  ------  --------------  ----- \n",
      " 0   v1      5572 non-null   object\n",
      " 1   v2      5572 non-null   object\n",
      "dtypes: object(2)\n",
      "memory usage: 87.2+ KB\n"
     ]
    }
   ],
   "source": [
    "df.drop(['Unnamed: 2', 'Unnamed: 3', 'Unnamed: 4'],axis=1,inplace=True)\n",
    "df.info()"
   ]
  },
  {
   "cell_type": "code",
   "execution_count": 5,
   "id": "7b7db937",
   "metadata": {
    "execution": {
     "iopub.execute_input": "2024-11-14T14:01:05.763625Z",
     "iopub.status.busy": "2024-11-14T14:01:05.762615Z",
     "iopub.status.idle": "2024-11-14T14:01:06.410407Z",
     "shell.execute_reply": "2024-11-14T14:01:06.409011Z"
    },
    "papermill": {
     "duration": 0.659533,
     "end_time": "2024-11-14T14:01:06.413227",
     "exception": false,
     "start_time": "2024-11-14T14:01:05.753694",
     "status": "completed"
    },
    "tags": []
   },
   "outputs": [],
   "source": [
    "import nltk\n",
    "df.columns = ['label', 'Content']\n",
    "\n",
    "\n",
    "en_stopwords = nltk.corpus.stopwords.words(\"english\")\n",
    "\n",
    "\n",
    "ps = nltk.PorterStemmer()"
   ]
  },
  {
   "cell_type": "code",
   "execution_count": 6,
   "id": "37a3e99c",
   "metadata": {
    "execution": {
     "iopub.execute_input": "2024-11-14T14:01:06.432564Z",
     "iopub.status.busy": "2024-11-14T14:01:06.431259Z",
     "iopub.status.idle": "2024-11-14T14:01:06.446099Z",
     "shell.execute_reply": "2024-11-14T14:01:06.444974Z"
    },
    "papermill": {
     "duration": 0.02758,
     "end_time": "2024-11-14T14:01:06.448692",
     "exception": false,
     "start_time": "2024-11-14T14:01:06.421112",
     "status": "completed"
    },
    "tags": []
   },
   "outputs": [],
   "source": [
    "df[\"Content_len\"] = df[\"Content\"].apply(lambda x : len(x)- x.count(\" \"))"
   ]
  },
  {
   "cell_type": "code",
   "execution_count": 7,
   "id": "e3d0603f",
   "metadata": {
    "execution": {
     "iopub.execute_input": "2024-11-14T14:01:06.465871Z",
     "iopub.status.busy": "2024-11-14T14:01:06.465435Z",
     "iopub.status.idle": "2024-11-14T14:01:06.539643Z",
     "shell.execute_reply": "2024-11-14T14:01:06.538472Z"
    },
    "papermill": {
     "duration": 0.085975,
     "end_time": "2024-11-14T14:01:06.542415",
     "exception": false,
     "start_time": "2024-11-14T14:01:06.456440",
     "status": "completed"
    },
    "tags": []
   },
   "outputs": [],
   "source": [
    "import string\n",
    "\n",
    "def countPunctuation(email) :\n",
    "    binary_array = [1 for ch in email if ch in string.punctuation]\n",
    "    total_punctuation = sum(binary_array)\n",
    "    total  = len(email) - email.count(\" \")\n",
    "    return round(total_punctuation/(total),4) * 100\n",
    "\n",
    "\n",
    "df[\"punctuation_taux\"] = df[\"Content\"].apply(lambda x : countPunctuation(x))"
   ]
  },
  {
   "cell_type": "code",
   "execution_count": 8,
   "id": "42c84f83",
   "metadata": {
    "execution": {
     "iopub.execute_input": "2024-11-14T14:01:06.559884Z",
     "iopub.status.busy": "2024-11-14T14:01:06.559155Z",
     "iopub.status.idle": "2024-11-14T14:01:06.571312Z",
     "shell.execute_reply": "2024-11-14T14:01:06.570325Z"
    },
    "papermill": {
     "duration": 0.023601,
     "end_time": "2024-11-14T14:01:06.573822",
     "exception": false,
     "start_time": "2024-11-14T14:01:06.550221",
     "status": "completed"
    },
    "tags": []
   },
   "outputs": [],
   "source": [
    "X = df.Content\n",
    "Y = df.label\n",
    "le = LabelEncoder()\n",
    "Y = le.fit_transform(Y)\n",
    "Y = Y.reshape(-1,1)\n",
    "\n",
    "X_train,X_test,Y_train,Y_test = train_test_split(X,Y,test_size=0.15)"
   ]
  },
  {
   "cell_type": "code",
   "execution_count": 9,
   "id": "091be947",
   "metadata": {
    "execution": {
     "iopub.execute_input": "2024-11-14T14:01:06.590668Z",
     "iopub.status.busy": "2024-11-14T14:01:06.590220Z",
     "iopub.status.idle": "2024-11-14T14:01:06.936155Z",
     "shell.execute_reply": "2024-11-14T14:01:06.934785Z"
    },
    "papermill": {
     "duration": 0.357362,
     "end_time": "2024-11-14T14:01:06.938685",
     "exception": false,
     "start_time": "2024-11-14T14:01:06.581323",
     "status": "completed"
    },
    "tags": []
   },
   "outputs": [],
   "source": [
    "from tensorflow.keras.preprocessing.text import Tokenizer\n",
    "from tensorflow.keras.preprocessing.sequence import pad_sequences\n",
    "\n",
    "max_words = 1000\n",
    "\n",
    "\n",
    "max_len = 150\n",
    "\n",
    "\n",
    "tok = Tokenizer(num_words=max_words)\n",
    "\n",
    "\n",
    "tok.fit_on_texts(X_train)\n",
    "\n",
    "\n",
    "sequences = tok.texts_to_sequences(X_train)\n",
    "\n",
    "sequences_matrix = pad_sequences(sequences, maxlen=max_len)"
   ]
  },
  {
   "cell_type": "code",
   "execution_count": 10,
   "id": "f0f60c54",
   "metadata": {
    "execution": {
     "iopub.execute_input": "2024-11-14T14:01:06.956981Z",
     "iopub.status.busy": "2024-11-14T14:01:06.955915Z",
     "iopub.status.idle": "2024-11-14T14:01:06.963816Z",
     "shell.execute_reply": "2024-11-14T14:01:06.962646Z"
    },
    "papermill": {
     "duration": 0.019795,
     "end_time": "2024-11-14T14:01:06.966223",
     "exception": false,
     "start_time": "2024-11-14T14:01:06.946428",
     "status": "completed"
    },
    "tags": []
   },
   "outputs": [
    {
     "data": {
      "text/plain": [
       "array([[  0,   0,   0, ...,  25, 782, 256],\n",
       "       [  0,   0,   0, ..., 225,  21,  99],\n",
       "       [  0,   0,   0, ...,   4, 668, 306],\n",
       "       ...,\n",
       "       [  0,   0,   0, ..., 705, 574, 885],\n",
       "       [  0,   0,   0, ..., 130,   3,  29],\n",
       "       [  0,   0,   0, ...,   0,   0, 954]], dtype=int32)"
      ]
     },
     "execution_count": 10,
     "metadata": {},
     "output_type": "execute_result"
    }
   ],
   "source": [
    "sequences_matrix"
   ]
  },
  {
   "cell_type": "code",
   "execution_count": 11,
   "id": "d2bc12fc",
   "metadata": {
    "execution": {
     "iopub.execute_input": "2024-11-14T14:01:06.983527Z",
     "iopub.status.busy": "2024-11-14T14:01:06.983078Z",
     "iopub.status.idle": "2024-11-14T14:01:06.990121Z",
     "shell.execute_reply": "2024-11-14T14:01:06.989003Z"
    },
    "papermill": {
     "duration": 0.018613,
     "end_time": "2024-11-14T14:01:06.992594",
     "exception": false,
     "start_time": "2024-11-14T14:01:06.973981",
     "status": "completed"
    },
    "tags": []
   },
   "outputs": [
    {
     "data": {
      "text/plain": [
       "(4736,)"
      ]
     },
     "execution_count": 11,
     "metadata": {},
     "output_type": "execute_result"
    }
   ],
   "source": [
    "X_train.shape"
   ]
  },
  {
   "cell_type": "code",
   "execution_count": 12,
   "id": "ffa8e04a",
   "metadata": {
    "execution": {
     "iopub.execute_input": "2024-11-14T14:01:07.010036Z",
     "iopub.status.busy": "2024-11-14T14:01:07.009610Z",
     "iopub.status.idle": "2024-11-14T14:01:07.016804Z",
     "shell.execute_reply": "2024-11-14T14:01:07.015842Z"
    },
    "papermill": {
     "duration": 0.019122,
     "end_time": "2024-11-14T14:01:07.019488",
     "exception": false,
     "start_time": "2024-11-14T14:01:07.000366",
     "status": "completed"
    },
    "tags": []
   },
   "outputs": [
    {
     "data": {
      "text/plain": [
       "(4736, 150)"
      ]
     },
     "execution_count": 12,
     "metadata": {},
     "output_type": "execute_result"
    }
   ],
   "source": [
    "sequences_matrix.shape"
   ]
  },
  {
   "cell_type": "code",
   "execution_count": 13,
   "id": "a07cc9ac",
   "metadata": {
    "execution": {
     "iopub.execute_input": "2024-11-14T14:01:07.038627Z",
     "iopub.status.busy": "2024-11-14T14:01:07.038157Z",
     "iopub.status.idle": "2024-11-14T14:01:07.045059Z",
     "shell.execute_reply": "2024-11-14T14:01:07.044026Z"
    },
    "papermill": {
     "duration": 0.018795,
     "end_time": "2024-11-14T14:01:07.047499",
     "exception": false,
     "start_time": "2024-11-14T14:01:07.028704",
     "status": "completed"
    },
    "tags": []
   },
   "outputs": [
    {
     "data": {
      "text/plain": [
       "(4736, 1)"
      ]
     },
     "execution_count": 13,
     "metadata": {},
     "output_type": "execute_result"
    }
   ],
   "source": [
    "Y_train.shape"
   ]
  },
  {
   "cell_type": "code",
   "execution_count": 14,
   "id": "7d01ac11",
   "metadata": {
    "execution": {
     "iopub.execute_input": "2024-11-14T14:01:07.066280Z",
     "iopub.status.busy": "2024-11-14T14:01:07.065403Z",
     "iopub.status.idle": "2024-11-14T14:01:07.073453Z",
     "shell.execute_reply": "2024-11-14T14:01:07.072327Z"
    },
    "papermill": {
     "duration": 0.020062,
     "end_time": "2024-11-14T14:01:07.075706",
     "exception": false,
     "start_time": "2024-11-14T14:01:07.055644",
     "status": "completed"
    },
    "tags": []
   },
   "outputs": [
    {
     "data": {
      "text/plain": [
       "array([[  0,   0,   0, ...,  25, 782, 256],\n",
       "       [  0,   0,   0, ..., 225,  21,  99],\n",
       "       [  0,   0,   0, ...,   4, 668, 306],\n",
       "       ...,\n",
       "       [  0,   0,   0, ..., 705, 574, 885],\n",
       "       [  0,   0,   0, ..., 130,   3,  29],\n",
       "       [  0,   0,   0, ...,   0,   0, 954]], dtype=int32)"
      ]
     },
     "execution_count": 14,
     "metadata": {},
     "output_type": "execute_result"
    }
   ],
   "source": [
    "sequences_matrix"
   ]
  },
  {
   "cell_type": "code",
   "execution_count": 15,
   "id": "9eab0eec",
   "metadata": {
    "execution": {
     "iopub.execute_input": "2024-11-14T14:01:07.094990Z",
     "iopub.status.busy": "2024-11-14T14:01:07.093675Z",
     "iopub.status.idle": "2024-11-14T14:01:07.101525Z",
     "shell.execute_reply": "2024-11-14T14:01:07.100376Z"
    },
    "papermill": {
     "duration": 0.020015,
     "end_time": "2024-11-14T14:01:07.103949",
     "exception": false,
     "start_time": "2024-11-14T14:01:07.083934",
     "status": "completed"
    },
    "tags": []
   },
   "outputs": [],
   "source": [
    "def RNN():\n",
    " \n",
    "    inputs = Input(name='inputs', shape=[max_len])\n",
    "    \n",
    "  \n",
    "    layer = Embedding(max_words, 50, input_length=max_len)(inputs)\n",
    "    layer = LSTM(64)(layer)\n",
    "    layer = Dense(256, name='FC1')(layer)\n",
    "    layer = Activation('relu')(layer)\n",
    "    layer = Dropout(0.5)(layer)\n",
    "    layer = Dense(1, name='out_layer')(layer)\n",
    "\n",
    "    model = Model(inputs=inputs, outputs=layer)\n",
    "    \n",
    "    return model"
   ]
  },
  {
   "cell_type": "code",
   "execution_count": 16,
   "id": "d6ff72d0",
   "metadata": {
    "execution": {
     "iopub.execute_input": "2024-11-14T14:01:07.122929Z",
     "iopub.status.busy": "2024-11-14T14:01:07.121935Z",
     "iopub.status.idle": "2024-11-14T14:01:07.281090Z",
     "shell.execute_reply": "2024-11-14T14:01:07.279987Z"
    },
    "papermill": {
     "duration": 0.171333,
     "end_time": "2024-11-14T14:01:07.283720",
     "exception": false,
     "start_time": "2024-11-14T14:01:07.112387",
     "status": "completed"
    },
    "tags": []
   },
   "outputs": [
    {
     "name": "stderr",
     "output_type": "stream",
     "text": [
      "/opt/conda/lib/python3.10/site-packages/keras/src/layers/core/embedding.py:90: UserWarning: Argument `input_length` is deprecated. Just remove it.\n",
      "  warnings.warn(\n"
     ]
    },
    {
     "data": {
      "text/html": [
       "<pre style=\"white-space:pre;overflow-x:auto;line-height:normal;font-family:Menlo,'DejaVu Sans Mono',consolas,'Courier New',monospace\"><span style=\"font-weight: bold\">Model: \"functional_1\"</span>\n",
       "</pre>\n"
      ],
      "text/plain": [
       "\u001b[1mModel: \"functional_1\"\u001b[0m\n"
      ]
     },
     "metadata": {},
     "output_type": "display_data"
    },
    {
     "data": {
      "text/html": [
       "<pre style=\"white-space:pre;overflow-x:auto;line-height:normal;font-family:Menlo,'DejaVu Sans Mono',consolas,'Courier New',monospace\">┏━━━━━━━━━━━━━━━━━━━━━━━━━━━━━━━━━┳━━━━━━━━━━━━━━━━━━━━━━━━┳━━━━━━━━━━━━━━━┓\n",
       "┃<span style=\"font-weight: bold\"> Layer (type)                    </span>┃<span style=\"font-weight: bold\"> Output Shape           </span>┃<span style=\"font-weight: bold\">       Param # </span>┃\n",
       "┡━━━━━━━━━━━━━━━━━━━━━━━━━━━━━━━━━╇━━━━━━━━━━━━━━━━━━━━━━━━╇━━━━━━━━━━━━━━━┩\n",
       "│ inputs (<span style=\"color: #0087ff; text-decoration-color: #0087ff\">InputLayer</span>)             │ (<span style=\"color: #00d7ff; text-decoration-color: #00d7ff\">None</span>, <span style=\"color: #00af00; text-decoration-color: #00af00\">150</span>)            │             <span style=\"color: #00af00; text-decoration-color: #00af00\">0</span> │\n",
       "├─────────────────────────────────┼────────────────────────┼───────────────┤\n",
       "│ embedding (<span style=\"color: #0087ff; text-decoration-color: #0087ff\">Embedding</span>)           │ (<span style=\"color: #00d7ff; text-decoration-color: #00d7ff\">None</span>, <span style=\"color: #00af00; text-decoration-color: #00af00\">150</span>, <span style=\"color: #00af00; text-decoration-color: #00af00\">50</span>)        │        <span style=\"color: #00af00; text-decoration-color: #00af00\">50,000</span> │\n",
       "├─────────────────────────────────┼────────────────────────┼───────────────┤\n",
       "│ lstm (<span style=\"color: #0087ff; text-decoration-color: #0087ff\">LSTM</span>)                     │ (<span style=\"color: #00d7ff; text-decoration-color: #00d7ff\">None</span>, <span style=\"color: #00af00; text-decoration-color: #00af00\">64</span>)             │        <span style=\"color: #00af00; text-decoration-color: #00af00\">29,440</span> │\n",
       "├─────────────────────────────────┼────────────────────────┼───────────────┤\n",
       "│ FC1 (<span style=\"color: #0087ff; text-decoration-color: #0087ff\">Dense</span>)                     │ (<span style=\"color: #00d7ff; text-decoration-color: #00d7ff\">None</span>, <span style=\"color: #00af00; text-decoration-color: #00af00\">256</span>)            │        <span style=\"color: #00af00; text-decoration-color: #00af00\">16,640</span> │\n",
       "├─────────────────────────────────┼────────────────────────┼───────────────┤\n",
       "│ activation (<span style=\"color: #0087ff; text-decoration-color: #0087ff\">Activation</span>)         │ (<span style=\"color: #00d7ff; text-decoration-color: #00d7ff\">None</span>, <span style=\"color: #00af00; text-decoration-color: #00af00\">256</span>)            │             <span style=\"color: #00af00; text-decoration-color: #00af00\">0</span> │\n",
       "├─────────────────────────────────┼────────────────────────┼───────────────┤\n",
       "│ dropout (<span style=\"color: #0087ff; text-decoration-color: #0087ff\">Dropout</span>)               │ (<span style=\"color: #00d7ff; text-decoration-color: #00d7ff\">None</span>, <span style=\"color: #00af00; text-decoration-color: #00af00\">256</span>)            │             <span style=\"color: #00af00; text-decoration-color: #00af00\">0</span> │\n",
       "├─────────────────────────────────┼────────────────────────┼───────────────┤\n",
       "│ out_layer (<span style=\"color: #0087ff; text-decoration-color: #0087ff\">Dense</span>)               │ (<span style=\"color: #00d7ff; text-decoration-color: #00d7ff\">None</span>, <span style=\"color: #00af00; text-decoration-color: #00af00\">1</span>)              │           <span style=\"color: #00af00; text-decoration-color: #00af00\">257</span> │\n",
       "└─────────────────────────────────┴────────────────────────┴───────────────┘\n",
       "</pre>\n"
      ],
      "text/plain": [
       "┏━━━━━━━━━━━━━━━━━━━━━━━━━━━━━━━━━┳━━━━━━━━━━━━━━━━━━━━━━━━┳━━━━━━━━━━━━━━━┓\n",
       "┃\u001b[1m \u001b[0m\u001b[1mLayer (type)                   \u001b[0m\u001b[1m \u001b[0m┃\u001b[1m \u001b[0m\u001b[1mOutput Shape          \u001b[0m\u001b[1m \u001b[0m┃\u001b[1m \u001b[0m\u001b[1m      Param #\u001b[0m\u001b[1m \u001b[0m┃\n",
       "┡━━━━━━━━━━━━━━━━━━━━━━━━━━━━━━━━━╇━━━━━━━━━━━━━━━━━━━━━━━━╇━━━━━━━━━━━━━━━┩\n",
       "│ inputs (\u001b[38;5;33mInputLayer\u001b[0m)             │ (\u001b[38;5;45mNone\u001b[0m, \u001b[38;5;34m150\u001b[0m)            │             \u001b[38;5;34m0\u001b[0m │\n",
       "├─────────────────────────────────┼────────────────────────┼───────────────┤\n",
       "│ embedding (\u001b[38;5;33mEmbedding\u001b[0m)           │ (\u001b[38;5;45mNone\u001b[0m, \u001b[38;5;34m150\u001b[0m, \u001b[38;5;34m50\u001b[0m)        │        \u001b[38;5;34m50,000\u001b[0m │\n",
       "├─────────────────────────────────┼────────────────────────┼───────────────┤\n",
       "│ lstm (\u001b[38;5;33mLSTM\u001b[0m)                     │ (\u001b[38;5;45mNone\u001b[0m, \u001b[38;5;34m64\u001b[0m)             │        \u001b[38;5;34m29,440\u001b[0m │\n",
       "├─────────────────────────────────┼────────────────────────┼───────────────┤\n",
       "│ FC1 (\u001b[38;5;33mDense\u001b[0m)                     │ (\u001b[38;5;45mNone\u001b[0m, \u001b[38;5;34m256\u001b[0m)            │        \u001b[38;5;34m16,640\u001b[0m │\n",
       "├─────────────────────────────────┼────────────────────────┼───────────────┤\n",
       "│ activation (\u001b[38;5;33mActivation\u001b[0m)         │ (\u001b[38;5;45mNone\u001b[0m, \u001b[38;5;34m256\u001b[0m)            │             \u001b[38;5;34m0\u001b[0m │\n",
       "├─────────────────────────────────┼────────────────────────┼───────────────┤\n",
       "│ dropout (\u001b[38;5;33mDropout\u001b[0m)               │ (\u001b[38;5;45mNone\u001b[0m, \u001b[38;5;34m256\u001b[0m)            │             \u001b[38;5;34m0\u001b[0m │\n",
       "├─────────────────────────────────┼────────────────────────┼───────────────┤\n",
       "│ out_layer (\u001b[38;5;33mDense\u001b[0m)               │ (\u001b[38;5;45mNone\u001b[0m, \u001b[38;5;34m1\u001b[0m)              │           \u001b[38;5;34m257\u001b[0m │\n",
       "└─────────────────────────────────┴────────────────────────┴───────────────┘\n"
      ]
     },
     "metadata": {},
     "output_type": "display_data"
    },
    {
     "data": {
      "text/html": [
       "<pre style=\"white-space:pre;overflow-x:auto;line-height:normal;font-family:Menlo,'DejaVu Sans Mono',consolas,'Courier New',monospace\"><span style=\"font-weight: bold\"> Total params: </span><span style=\"color: #00af00; text-decoration-color: #00af00\">96,337</span> (376.32 KB)\n",
       "</pre>\n"
      ],
      "text/plain": [
       "\u001b[1m Total params: \u001b[0m\u001b[38;5;34m96,337\u001b[0m (376.32 KB)\n"
      ]
     },
     "metadata": {},
     "output_type": "display_data"
    },
    {
     "data": {
      "text/html": [
       "<pre style=\"white-space:pre;overflow-x:auto;line-height:normal;font-family:Menlo,'DejaVu Sans Mono',consolas,'Courier New',monospace\"><span style=\"font-weight: bold\"> Trainable params: </span><span style=\"color: #00af00; text-decoration-color: #00af00\">96,337</span> (376.32 KB)\n",
       "</pre>\n"
      ],
      "text/plain": [
       "\u001b[1m Trainable params: \u001b[0m\u001b[38;5;34m96,337\u001b[0m (376.32 KB)\n"
      ]
     },
     "metadata": {},
     "output_type": "display_data"
    },
    {
     "data": {
      "text/html": [
       "<pre style=\"white-space:pre;overflow-x:auto;line-height:normal;font-family:Menlo,'DejaVu Sans Mono',consolas,'Courier New',monospace\"><span style=\"font-weight: bold\"> Non-trainable params: </span><span style=\"color: #00af00; text-decoration-color: #00af00\">0</span> (0.00 B)\n",
       "</pre>\n"
      ],
      "text/plain": [
       "\u001b[1m Non-trainable params: \u001b[0m\u001b[38;5;34m0\u001b[0m (0.00 B)\n"
      ]
     },
     "metadata": {},
     "output_type": "display_data"
    }
   ],
   "source": [
    "model = RNN()\n",
    "model.summary()\n",
    "model.compile(loss='binary_crossentropy', optimizer=RMSprop(), metrics=['accuracy'])"
   ]
  },
  {
   "cell_type": "code",
   "execution_count": 17,
   "id": "dc999059",
   "metadata": {
    "execution": {
     "iopub.execute_input": "2024-11-14T14:01:07.304904Z",
     "iopub.status.busy": "2024-11-14T14:01:07.304134Z",
     "iopub.status.idle": "2024-11-14T14:01:25.554100Z",
     "shell.execute_reply": "2024-11-14T14:01:25.552982Z"
    },
    "papermill": {
     "duration": 18.263668,
     "end_time": "2024-11-14T14:01:25.556794",
     "exception": false,
     "start_time": "2024-11-14T14:01:07.293126",
     "status": "completed"
    },
    "tags": []
   },
   "outputs": [
    {
     "name": "stdout",
     "output_type": "stream",
     "text": [
      "Epoch 1/2\n",
      "\u001b[1m30/30\u001b[0m \u001b[32m━━━━━━━━━━━━━━━━━━━━\u001b[0m\u001b[37m\u001b[0m \u001b[1m8s\u001b[0m 183ms/step - accuracy: 0.8700 - loss: 0.5424 - val_accuracy: 0.9757 - val_loss: 0.1455\n",
      "Epoch 2/2\n",
      "\u001b[1m30/30\u001b[0m \u001b[32m━━━━━━━━━━━━━━━━━━━━\u001b[0m\u001b[37m\u001b[0m \u001b[1m5s\u001b[0m 178ms/step - accuracy: 0.9721 - loss: 0.1499 - val_accuracy: 0.9884 - val_loss: 0.1050\n"
     ]
    }
   ],
   "source": [
    "from tensorflow.keras.callbacks import EarlyStopping, CSVLogger\n",
    "\n",
    "early_stopping = EarlyStopping(monitor='val_loss', min_delta=0.0001, patience=2, mode='min')\n",
    "csv_logger = CSVLogger('training_log.csv', append=True)\n",
    "\n",
    "#\n",
    "history = model.fit(\n",
    "    sequences_matrix, \n",
    "    Y_train,          \n",
    "    batch_size=128,   \n",
    "    epochs=2,          \n",
    "    validation_split=0.2,  \n",
    "    callbacks=[early_stopping, csv_logger]  \n",
    ")"
   ]
  },
  {
   "cell_type": "code",
   "execution_count": 18,
   "id": "9122a408",
   "metadata": {
    "execution": {
     "iopub.execute_input": "2024-11-14T14:01:25.589916Z",
     "iopub.status.busy": "2024-11-14T14:01:25.589466Z",
     "iopub.status.idle": "2024-11-14T14:01:25.619278Z",
     "shell.execute_reply": "2024-11-14T14:01:25.618314Z"
    },
    "papermill": {
     "duration": 0.049357,
     "end_time": "2024-11-14T14:01:25.621999",
     "exception": false,
     "start_time": "2024-11-14T14:01:25.572642",
     "status": "completed"
    },
    "tags": []
   },
   "outputs": [],
   "source": [
    "test_sequences = tok.texts_to_sequences(X_test)\n",
    "test_sequences_matrix = sequence.pad_sequences(test_sequences,maxlen=max_len)"
   ]
  },
  {
   "cell_type": "code",
   "execution_count": 19,
   "id": "921d6aa9",
   "metadata": {
    "execution": {
     "iopub.execute_input": "2024-11-14T14:01:25.656327Z",
     "iopub.status.busy": "2024-11-14T14:01:25.655121Z",
     "iopub.status.idle": "2024-11-14T14:01:26.407894Z",
     "shell.execute_reply": "2024-11-14T14:01:26.406678Z"
    },
    "papermill": {
     "duration": 0.772845,
     "end_time": "2024-11-14T14:01:26.410807",
     "exception": false,
     "start_time": "2024-11-14T14:01:25.637962",
     "status": "completed"
    },
    "tags": []
   },
   "outputs": [
    {
     "name": "stdout",
     "output_type": "stream",
     "text": [
      "\u001b[1m27/27\u001b[0m \u001b[32m━━━━━━━━━━━━━━━━━━━━\u001b[0m\u001b[37m\u001b[0m \u001b[1m1s\u001b[0m 25ms/step - accuracy: 0.9842 - loss: 0.0625\n"
     ]
    }
   ],
   "source": [
    "score = model.evaluate(test_sequences_matrix,Y_test)"
   ]
  },
  {
   "cell_type": "code",
   "execution_count": 20,
   "id": "7de97664",
   "metadata": {
    "execution": {
     "iopub.execute_input": "2024-11-14T14:01:26.446695Z",
     "iopub.status.busy": "2024-11-14T14:01:26.445792Z",
     "iopub.status.idle": "2024-11-14T14:01:26.451941Z",
     "shell.execute_reply": "2024-11-14T14:01:26.450930Z"
    },
    "papermill": {
     "duration": 0.027286,
     "end_time": "2024-11-14T14:01:26.454869",
     "exception": false,
     "start_time": "2024-11-14T14:01:26.427583",
     "status": "completed"
    },
    "tags": []
   },
   "outputs": [
    {
     "name": "stdout",
     "output_type": "stream",
     "text": [
      "Test set\n",
      "  Loss: 0.103\n",
      "  Accuracy: 0.981\n"
     ]
    }
   ],
   "source": [
    "print('Test set\\n  Loss: {:0.3f}\\n  Accuracy: {:0.3f}'.format(score[0],score[1]))"
   ]
  }
 ],
 "metadata": {
  "kaggle": {
   "accelerator": "none",
   "dataSources": [
    {
     "datasetId": 6079817,
     "sourceId": 9897870,
     "sourceType": "datasetVersion"
    }
   ],
   "dockerImageVersionId": 30786,
   "isGpuEnabled": false,
   "isInternetEnabled": true,
   "language": "python",
   "sourceType": "notebook"
  },
  "kernelspec": {
   "display_name": "Python 3",
   "language": "python",
   "name": "python3"
  },
  "language_info": {
   "codemirror_mode": {
    "name": "ipython",
    "version": 3
   },
   "file_extension": ".py",
   "mimetype": "text/x-python",
   "name": "python",
   "nbconvert_exporter": "python",
   "pygments_lexer": "ipython3",
   "version": "3.10.14"
  },
  "papermill": {
   "default_parameters": {},
   "duration": 42.474494,
   "end_time": "2024-11-14T14:01:28.198425",
   "environment_variables": {},
   "exception": null,
   "input_path": "__notebook__.ipynb",
   "output_path": "__notebook__.ipynb",
   "parameters": {},
   "start_time": "2024-11-14T14:00:45.723931",
   "version": "2.6.0"
  }
 },
 "nbformat": 4,
 "nbformat_minor": 5
}
